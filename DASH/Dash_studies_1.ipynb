{
  "cells": [
    {
      "cell_type": "code",
      "execution_count": null,
      "metadata": {
        "colab": {
          "base_uri": "https://localhost:8080/"
        },
        "id": "i3qqORrlwH2-",
        "outputId": "0e5881ca-97af-4de7-cb7d-97fc894c9492"
      },
      "outputs": [
        {
          "output_type": "stream",
          "name": "stdout",
          "text": [
            "Requirement already satisfied: dash in /usr/local/lib/python3.10/dist-packages (2.11.1)\n",
            "Requirement already satisfied: Flask<2.3.0,>=1.0.4 in /usr/local/lib/python3.10/dist-packages (from dash) (2.2.5)\n",
            "Requirement already satisfied: Werkzeug<2.3.0 in /usr/local/lib/python3.10/dist-packages (from dash) (2.2.3)\n",
            "Requirement already satisfied: plotly>=5.0.0 in /usr/local/lib/python3.10/dist-packages (from dash) (5.13.1)\n",
            "Requirement already satisfied: dash-html-components==2.0.0 in /usr/local/lib/python3.10/dist-packages (from dash) (2.0.0)\n",
            "Requirement already satisfied: dash-core-components==2.0.0 in /usr/local/lib/python3.10/dist-packages (from dash) (2.0.0)\n",
            "Requirement already satisfied: dash-table==5.0.0 in /usr/local/lib/python3.10/dist-packages (from dash) (5.0.0)\n",
            "Requirement already satisfied: typing-extensions>=4.1.1 in /usr/local/lib/python3.10/dist-packages (from dash) (4.7.1)\n",
            "Requirement already satisfied: requests in /usr/local/lib/python3.10/dist-packages (from dash) (2.27.1)\n",
            "Requirement already satisfied: retrying in /usr/local/lib/python3.10/dist-packages (from dash) (1.3.4)\n",
            "Requirement already satisfied: ansi2html in /usr/local/lib/python3.10/dist-packages (from dash) (1.8.0)\n",
            "Requirement already satisfied: nest-asyncio in /usr/local/lib/python3.10/dist-packages (from dash) (1.5.6)\n",
            "Requirement already satisfied: Jinja2>=3.0 in /usr/local/lib/python3.10/dist-packages (from Flask<2.3.0,>=1.0.4->dash) (3.1.2)\n",
            "Requirement already satisfied: itsdangerous>=2.0 in /usr/local/lib/python3.10/dist-packages (from Flask<2.3.0,>=1.0.4->dash) (2.1.2)\n",
            "Requirement already satisfied: click>=8.0 in /usr/local/lib/python3.10/dist-packages (from Flask<2.3.0,>=1.0.4->dash) (8.1.6)\n",
            "Requirement already satisfied: tenacity>=6.2.0 in /usr/local/lib/python3.10/dist-packages (from plotly>=5.0.0->dash) (8.2.2)\n",
            "Requirement already satisfied: MarkupSafe>=2.1.1 in /usr/local/lib/python3.10/dist-packages (from Werkzeug<2.3.0->dash) (2.1.3)\n",
            "Requirement already satisfied: urllib3<1.27,>=1.21.1 in /usr/local/lib/python3.10/dist-packages (from requests->dash) (1.26.16)\n",
            "Requirement already satisfied: certifi>=2017.4.17 in /usr/local/lib/python3.10/dist-packages (from requests->dash) (2023.7.22)\n",
            "Requirement already satisfied: charset-normalizer~=2.0.0 in /usr/local/lib/python3.10/dist-packages (from requests->dash) (2.0.12)\n",
            "Requirement already satisfied: idna<4,>=2.5 in /usr/local/lib/python3.10/dist-packages (from requests->dash) (3.4)\n",
            "Requirement already satisfied: six>=1.7.0 in /usr/local/lib/python3.10/dist-packages (from retrying->dash) (1.16.0)\n",
            "Requirement already satisfied: pandas in /usr/local/lib/python3.10/dist-packages (1.5.3)\n",
            "Requirement already satisfied: python-dateutil>=2.8.1 in /usr/local/lib/python3.10/dist-packages (from pandas) (2.8.2)\n",
            "Requirement already satisfied: pytz>=2020.1 in /usr/local/lib/python3.10/dist-packages (from pandas) (2022.7.1)\n",
            "Requirement already satisfied: numpy>=1.21.0 in /usr/local/lib/python3.10/dist-packages (from pandas) (1.22.4)\n",
            "Requirement already satisfied: six>=1.5 in /usr/local/lib/python3.10/dist-packages (from python-dateutil>=2.8.1->pandas) (1.16.0)\n"
          ]
        }
      ],
      "source": [
        "!pip install dash\n",
        "!pip install pandas"
      ]
    },
    {
      "cell_type": "code",
      "execution_count": 34,
      "metadata": {
        "id": "WlSX67KLtxlE"
      },
      "outputs": [],
      "source": [
        "import pandas as pd\n",
        "import plotly.express as px\n",
        "import plotly.graph_objects as go\n",
        "\n",
        "import dash\n",
        "import dash_core_components as dcc\n",
        "import dash_html_components as html\n",
        "from dash.dependencies import Input, Output"
      ]
    },
    {
      "cell_type": "code",
      "execution_count": 45,
      "metadata": {
        "id": "Ifu65wwewMK-"
      },
      "outputs": [],
      "source": [
        "app = dash.Dash(__name__)\n"
      ]
    },
    {
      "cell_type": "code",
      "execution_count": 46,
      "metadata": {
        "id": "-hIDCUDowee7",
        "colab": {
          "base_uri": "https://localhost:8080/"
        },
        "outputId": "aa48018c-e6fe-47c6-fd47-2594636b881d"
      },
      "outputs": [
        {
          "output_type": "stream",
          "name": "stdout",
          "text": [
            "     State  ANSI Affected by  Year state_code  Pct of Colonies Impacted\n",
            "0  Alabama     1     Disease  2015         AL                      0.05\n",
            "1  Alabama     1     Disease  2016         AL                      1.20\n",
            "2  Alabama     1     Disease  2017         AL                      2.25\n",
            "3  Alabama     1     Disease  2018         AL                      1.30\n",
            "4  Alabama     1     Disease  2019         AL                      1.80\n"
          ]
        }
      ],
      "source": [
        "df = pd.read_csv(\"intro_bees.csv\")\n",
        "\n",
        "df = df.groupby(['State','ANSI','Affected by', 'Year', 'state_code']) [['Pct of Colonies Impacted']].mean()\n",
        "df.reset_index(inplace = True)\n",
        "print(df[:5])"
      ]
    },
    {
      "cell_type": "code",
      "execution_count": 47,
      "metadata": {
        "id": "6bWamcILxxCC"
      },
      "outputs": [],
      "source": [
        "app.layout = html.Div([\n",
        "    html.H1(\"Aplicação web com dash\", style={'text-align':'center', 'font-family': 'verdana'}),\n",
        "\n",
        "    dcc.Dropdown(id = \"slct_year\",\n",
        "                 options=[\n",
        "                    {\"label\":\"2015\",\"value\":2015},\n",
        "                    {\"label\":\"2016\",\"value\":2016},\n",
        "                    {\"label\":\"2017\",\"value\":2017},\n",
        "                    {\"label\":\"2018\",\"value\":2018}],\n",
        "                 multi = False,\n",
        "                 value = 2015,\n",
        "                 style = {\"width\":\"40%\"}\n",
        "                 ),\n",
        "    html.Div(id = 'output_container', children= []),\n",
        "    html.Br(),\n",
        "\n",
        "    dcc.Graph(id = 'my_bee_map', figure = {})\n",
        "])"
      ]
    },
    {
      "cell_type": "code",
      "execution_count": 48,
      "metadata": {
        "id": "2K4n8AwKaKmk"
      },
      "outputs": [],
      "source": [
        "@app.callback(\n",
        "    [Output(component_id = 'output_container', component_property = 'children'),\n",
        "     Output(component_id = 'my_bee_map', component_property = 'figure')],\n",
        "    [Input(component_id = 'slct_year', component_property = 'value')]\n",
        ")\n",
        "\n",
        "def update_graph(option_slctd):\n",
        "  print(option_slctd)\n",
        "  print(type(option_slctd))\n",
        "\n",
        "  container = \"The year chosen by user was: {}\". format(option_slctd)\n",
        "\n",
        "  dfc = df.copy()\n",
        "  dfc = dfc[dfc[\"Year\"] == option_slctd]\n",
        "  dfc = dfc[dfc[\"Affected by\"] == \"Varroa_mites\"]\n",
        "\n",
        "  fig = px.choropleth(\n",
        "    data_frame = dfc,\n",
        "    locationmode = 'USA-states',\n",
        "    locations = 'state_code',\n",
        "    scope = \"usa\",\n",
        "    color = \"Pct of Colonies Impacted\",\n",
        "    hover_data = ['State','Pct of Colonies Impacted'],\n",
        "    color_continuous_scale= px.colors.sequential.YlOrRd,\n",
        "    labels = {'Pct of Colonies Impacted', '% of Bee Colonies'},\n",
        "    template = \"plotly_dark\"\n",
        ")\n",
        "\n",
        "  return container, fig"
      ]
    },
    {
      "cell_type": "code",
      "execution_count": 49,
      "metadata": {
        "id": "qeqlO_8R06M_",
        "colab": {
          "base_uri": "https://localhost:8080/",
          "height": 671
        },
        "outputId": "724629a0-9713-4575-a62e-67c802e54deb"
      },
      "outputs": [
        {
          "output_type": "display_data",
          "data": {
            "text/plain": [
              "<IPython.core.display.Javascript object>"
            ],
            "application/javascript": [
              "(async (port, path, width, height, cache, element) => {\n",
              "    if (!google.colab.kernel.accessAllowed && !cache) {\n",
              "      return;\n",
              "    }\n",
              "    element.appendChild(document.createTextNode(''));\n",
              "    const url = await google.colab.kernel.proxyPort(port, {cache});\n",
              "    const iframe = document.createElement('iframe');\n",
              "    iframe.src = new URL(path, url).toString();\n",
              "    iframe.height = height;\n",
              "    iframe.width = width;\n",
              "    iframe.style.border = 0;\n",
              "    iframe.allow = [\n",
              "        'accelerometer',\n",
              "        'autoplay',\n",
              "        'camera',\n",
              "        'clipboard-read',\n",
              "        'clipboard-write',\n",
              "        'gyroscope',\n",
              "        'magnetometer',\n",
              "        'microphone',\n",
              "        'serial',\n",
              "        'usb',\n",
              "        'xr-spatial-tracking',\n",
              "    ].join('; ');\n",
              "    element.appendChild(iframe);\n",
              "  })(8050, \"/\", \"100%\", 650, false, window.element)"
            ]
          },
          "metadata": {}
        }
      ],
      "source": [
        "if __name__ == '__main__':\n",
        "    app.run_server(debug=True)"
      ]
    },
    {
      "cell_type": "code",
      "execution_count": null,
      "metadata": {
        "id": "mJSXHpPug1pe"
      },
      "outputs": [],
      "source": [
        "#  Plotly Graph Objects (GO)\n",
        "#     fig = go.Figure(\n",
        "#         data=[go.Choropleth(\n",
        "#             locationmode='USA-states',\n",
        "#             locations=dff['state_code'],\n",
        "#             z=dff[\"Pct of Colonies Impacted\"].astype(float),\n",
        "#             colorscale='Reds',\n",
        "#         )]\n",
        "#     )\n",
        "\n",
        "#     fig.update_layout(\n",
        "#         title_text=\"Bees Affected by Mites in the USA\",\n",
        "#         title_xanchor=\"center\",\n",
        "#         title_font=dict(size=24),\n",
        "#         title_x=0.5,\n",
        "#         geo=dict(scope='usa'),\n",
        "#     )"
      ]
    }
  ],
  "metadata": {
    "colab": {
      "provenance": []
    },
    "kernelspec": {
      "display_name": "Python 3",
      "name": "python3"
    },
    "language_info": {
      "name": "python"
    }
  },
  "nbformat": 4,
  "nbformat_minor": 0
}