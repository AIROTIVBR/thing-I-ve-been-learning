{
  "nbformat": 4,
  "nbformat_minor": 0,
  "metadata": {
    "colab": {
      "provenance": []
    },
    "kernelspec": {
      "name": "python3",
      "display_name": "Python 3"
    },
    "language_info": {
      "name": "python"
    }
  },
  "cells": [
    {
      "cell_type": "code",
      "execution_count": null,
      "metadata": {
        "id": "g8eQjrD07OND"
      },
      "outputs": [],
      "source": [
        "import pandas as pd"
      ]
    },
    {
      "cell_type": "code",
      "source": [
        "import numpy as np"
      ],
      "metadata": {
        "id": "SEVZttXFugKW"
      },
      "execution_count": null,
      "outputs": []
    },
    {
      "cell_type": "code",
      "source": [
        "minhaLista = ['Vitória Amorim', 18, 51.5, 1.68]\n",
        "\n",
        "print('minha idade é', minhaLista[1])\n",
        "\n",
        "print('minha altura é de ', minhaLista[3])\n",
        "\n",
        "print('meu nome é ', minhaLista[1])\n",
        "\n",
        "print('meu peso é ', minhaLista[2])"
      ],
      "metadata": {
        "colab": {
          "base_uri": "https://localhost:8080/"
        },
        "id": "mdZnkPSMFg0w",
        "outputId": "a006ed50-caa1-4762-cded-7b5adff79a08"
      },
      "execution_count": 1,
      "outputs": [
        {
          "output_type": "stream",
          "name": "stdout",
          "text": [
            "minha idade é 18\n",
            "minha altura é de  1.68\n",
            "meu nome é  18\n",
            "meu peso é  51.5\n"
          ]
        }
      ]
    },
    {
      "cell_type": "code",
      "source": [
        "for i in minhaLista:\n",
        "  print(i)"
      ],
      "metadata": {
        "colab": {
          "base_uri": "https://localhost:8080/"
        },
        "id": "T5Q-iNrVajx9",
        "outputId": "31be2cb4-91d2-4453-80ea-5441dae5e798"
      },
      "execution_count": 2,
      "outputs": [
        {
          "output_type": "stream",
          "name": "stdout",
          "text": [
            "Vitória Amorim\n",
            "18\n",
            "51.5\n",
            "1.68\n"
          ]
        }
      ]
    },
    {
      "cell_type": "code",
      "source": [
        "lista = [\"celular\",\"tablet\", \"computador\",\"relogio\", \"assistente\"]\n",
        "print(lista[1:4])"
      ],
      "metadata": {
        "colab": {
          "base_uri": "https://localhost:8080/"
        },
        "id": "cyBc5ekDukES",
        "outputId": "37e5647d-56cd-4435-c5b1-3f38151640e1"
      },
      "execution_count": 16,
      "outputs": [
        {
          "output_type": "stream",
          "name": "stdout",
          "text": [
            "['tablet', 'computador', 'relogio']\n"
          ]
        }
      ]
    },
    {
      "cell_type": "code",
      "source": [
        "print(lista[:2])\n",
        "print(lista[2:])"
      ],
      "metadata": {
        "colab": {
          "base_uri": "https://localhost:8080/"
        },
        "id": "-qQWdgSCvWgd",
        "outputId": "c41dea53-f8be-4afa-fbd4-41d2aef781da"
      },
      "execution_count": 17,
      "outputs": [
        {
          "output_type": "stream",
          "name": "stdout",
          "text": [
            "['celular', 'tablet']\n",
            "['computador', 'relogio', 'assistente']\n"
          ]
        }
      ]
    },
    {
      "cell_type": "code",
      "source": [
        "lista.append(\"televisão\")\n",
        "print(lista)\n",
        "\n",
        "#remove pelo conteudo\n",
        "lista.remove(\"televisão\")\n",
        "print(lista)\n",
        "\n",
        "#remove pelo índice\n",
        "lista.pop(0)\n",
        "print(lista)"
      ],
      "metadata": {
        "colab": {
          "base_uri": "https://localhost:8080/"
        },
        "id": "2vDRhtI_vx8i",
        "outputId": "e51c96c8-0e89-4d2b-ce0e-24ed2c5281c7"
      },
      "execution_count": 18,
      "outputs": [
        {
          "output_type": "stream",
          "name": "stdout",
          "text": [
            "['celular', 'tablet', 'computador', 'relogio', 'assistente', 'televisão']\n",
            "['celular', 'tablet', 'computador', 'relogio', 'assistente']\n",
            "['tablet', 'computador', 'relogio', 'assistente']\n"
          ]
        }
      ]
    },
    {
      "cell_type": "code",
      "source": [
        "print(lista)\n",
        "lista = lista[2:]\n",
        "print(lista)"
      ],
      "metadata": {
        "colab": {
          "base_uri": "https://localhost:8080/"
        },
        "id": "m8YjmWh4ZMVY",
        "outputId": "8fb413da-ffce-43db-fb4e-5945cb1a4870"
      },
      "execution_count": 19,
      "outputs": [
        {
          "output_type": "stream",
          "name": "stdout",
          "text": [
            "['tablet', 'computador', 'relogio', 'assistente']\n",
            "['relogio', 'assistente']\n"
          ]
        }
      ]
    },
    {
      "cell_type": "code",
      "source": [
        "import numpy as np\n",
        "arr = np.array(50)\n",
        "print(arr)\n",
        "\n",
        "array = np.array([1, 2, 3, 4, 5])\n",
        "print(array)\n",
        "\n",
        "array_grande = np.array([[1,2,3,4,5],[5,4,3,2,2,1]])\n",
        "print(array_grande)"
      ],
      "metadata": {
        "colab": {
          "base_uri": "https://localhost:8080/"
        },
        "id": "tarYZB4kxil3",
        "outputId": "3c2e8b8b-1f1a-4e64-ab55-a758369d7187"
      },
      "execution_count": 5,
      "outputs": [
        {
          "output_type": "stream",
          "name": "stdout",
          "text": [
            "50\n",
            "[1 2 3 4 5]\n",
            "[list([1, 2, 3, 4, 5]) list([5, 4, 3, 2, 2, 1])]\n"
          ]
        },
        {
          "output_type": "stream",
          "name": "stderr",
          "text": [
            "<ipython-input-5-b1bc3ffbe3a8>:8: VisibleDeprecationWarning: Creating an ndarray from ragged nested sequences (which is a list-or-tuple of lists-or-tuples-or ndarrays with different lengths or shapes) is deprecated. If you meant to do this, you must specify 'dtype=object' when creating the ndarray.\n",
            "  array_grande = np.array([[1,2,3,4,5],[5,4,3,2,2,1]])\n"
          ]
        }
      ]
    },
    {
      "cell_type": "code",
      "source": [
        "array2 = np.array([10,20,33,40])\n",
        "print(array2[2] + array2[3])"
      ],
      "metadata": {
        "colab": {
          "base_uri": "https://localhost:8080/"
        },
        "id": "ri98UD-QLaWU",
        "outputId": "f0b589db-ccda-464b-ec49-7fd801f74538"
      },
      "execution_count": 6,
      "outputs": [
        {
          "output_type": "stream",
          "name": "stdout",
          "text": [
            "73\n"
          ]
        }
      ]
    },
    {
      "cell_type": "code",
      "source": [
        "array3 = np.array([[1,2,3,4,5], [6,7,8,9,10]])\n",
        "print('O segundo elemento da primeira linha é:', array3[0, 1])"
      ],
      "metadata": {
        "colab": {
          "base_uri": "https://localhost:8080/"
        },
        "id": "bhdsgBQZM3KF",
        "outputId": "7ca708be-b968-460f-c3d5-ed1f43371cd1"
      },
      "execution_count": 7,
      "outputs": [
        {
          "output_type": "stream",
          "name": "stdout",
          "text": [
            "O segundo elemento da primeira linha é: 2\n"
          ]
        }
      ]
    },
    {
      "cell_type": "code",
      "source": [
        "arr = np.array([[1,2,3,4,5], [6,7,8,9,10]])\n",
        "print(arr)\n",
        "print(\"o segundo elemento da segunda linha é:\", arr[1, 1])"
      ],
      "metadata": {
        "colab": {
          "base_uri": "https://localhost:8080/"
        },
        "id": "Y3UBk3p8ZlPc",
        "outputId": "cf2dbc7a-ce32-4345-ac27-b17ca7fb031a"
      },
      "execution_count": 20,
      "outputs": [
        {
          "output_type": "stream",
          "name": "stdout",
          "text": [
            "[[ 1  2  3  4  5]\n",
            " [ 6  7  8  9 10]]\n",
            "o segundo elemento da segunda linha é: 7\n"
          ]
        }
      ]
    },
    {
      "cell_type": "code",
      "source": [
        "array2 = np.array([[1,2,3,4,5],[6,7,8,9,10]])\n",
        "print(array2.shape)"
      ],
      "metadata": {
        "colab": {
          "base_uri": "https://localhost:8080/"
        },
        "id": "c44jVjS4Zni-",
        "outputId": "519ac191-cc35-45c2-9326-06ae5302e9fd"
      },
      "execution_count": 21,
      "outputs": [
        {
          "output_type": "stream",
          "name": "stdout",
          "text": [
            "(2, 5)\n"
          ]
        }
      ]
    }
  ]
}